{
 "cells": [
  {
   "cell_type": "markdown",
   "metadata": {},
   "source": [
    "# Are JPY and SGD Cointegrated?"
   ]
  },
  {
   "cell_type": "markdown",
   "metadata": {
    "collapsed": true
   },
   "source": [
    "### Cointegration involves two steps: \n",
    "##### 1. Regressing one time series on the other to get the cointegration vector\n",
    "##### 2. Perform an ADF test on the residuals of the regression."
   ]
  },
  {
   "cell_type": "code",
   "execution_count": 1,
   "metadata": {},
   "outputs": [
    {
     "name": "stderr",
     "output_type": "stream",
     "text": [
      "/home/nbuser/anaconda3_501/lib/python3.6/site-packages/statsmodels/compat/pandas.py:56: FutureWarning: The pandas.core.datetools module is deprecated and will be removed in a future version. Please use the pandas.tseries module instead.\n",
      "  from pandas.core import datetools\n"
     ]
    }
   ],
   "source": [
    "# import the libraries\n",
    "import warnings\n",
    "import pandas as pd\n",
    "import matplotlib.pyplot as plt\n",
    "import statsmodels.api as sm\n",
    "from statsmodels.tsa.stattools import adfuller\n",
    "warnings.filterwarnings('ignore')"
   ]
  },
  {
   "cell_type": "code",
   "execution_count": 2,
   "metadata": {},
   "outputs": [],
   "source": [
    "# import the data\n",
    "df_jpy = pd.read_csv('Data/DEXJPUS_19710104_20180504.csv', header=0, index_col='DATE')\n",
    "df_sgd = pd.read_csv('Data/DEXSIUS_19810102_20180504.csv', header=0, index_col='DATE')"
   ]
  },
  {
   "cell_type": "code",
   "execution_count": 3,
   "metadata": {},
   "outputs": [
    {
     "data": {
      "text/html": [
       "<div>\n",
       "<style>\n",
       "    .dataframe thead tr:only-child th {\n",
       "        text-align: right;\n",
       "    }\n",
       "\n",
       "    .dataframe thead th {\n",
       "        text-align: left;\n",
       "    }\n",
       "\n",
       "    .dataframe tbody tr th {\n",
       "        vertical-align: top;\n",
       "    }\n",
       "</style>\n",
       "<table border=\"1\" class=\"dataframe\">\n",
       "  <thead>\n",
       "    <tr style=\"text-align: right;\">\n",
       "      <th></th>\n",
       "      <th>DEXJPUS</th>\n",
       "      <th>DEXSIUS</th>\n",
       "    </tr>\n",
       "    <tr>\n",
       "      <th>DATE</th>\n",
       "      <th></th>\n",
       "      <th></th>\n",
       "    </tr>\n",
       "  </thead>\n",
       "  <tbody>\n",
       "    <tr>\n",
       "      <th>2000-01-03</th>\n",
       "      <td>101.70</td>\n",
       "      <td>1.6563</td>\n",
       "    </tr>\n",
       "    <tr>\n",
       "      <th>2000-01-04</th>\n",
       "      <td>103.09</td>\n",
       "      <td>1.6535</td>\n",
       "    </tr>\n",
       "    <tr>\n",
       "      <th>2000-01-05</th>\n",
       "      <td>103.77</td>\n",
       "      <td>1.6560</td>\n",
       "    </tr>\n",
       "    <tr>\n",
       "      <th>2000-01-06</th>\n",
       "      <td>105.19</td>\n",
       "      <td>1.6655</td>\n",
       "    </tr>\n",
       "    <tr>\n",
       "      <th>2000-01-07</th>\n",
       "      <td>105.17</td>\n",
       "      <td>1.6625</td>\n",
       "    </tr>\n",
       "  </tbody>\n",
       "</table>\n",
       "</div>"
      ],
      "text/plain": [
       "            DEXJPUS  DEXSIUS\n",
       "DATE                        \n",
       "2000-01-03   101.70   1.6563\n",
       "2000-01-04   103.09   1.6535\n",
       "2000-01-05   103.77   1.6560\n",
       "2000-01-06   105.19   1.6655\n",
       "2000-01-07   105.17   1.6625"
      ]
     },
     "execution_count": 3,
     "metadata": {},
     "output_type": "execute_result"
    }
   ],
   "source": [
    "# prepare the data, consider data since 2000 and forwward fill any na values\n",
    "df_jpy.index = pd.to_datetime(df_jpy.index)\n",
    "df_jpy = df_jpy.loc['2000-01-01':]\n",
    "df_jpy.DEXJPUS = pd.to_numeric(df_jpy.DEXJPUS, errors='coerce')\n",
    "df_jpy = df_jpy.fillna(method='ffill')\n",
    "\n",
    "df_sgd.index = pd.to_datetime(df_sgd.index)\n",
    "df_sgd = df_sgd.loc['2000-01-01':]\n",
    "df_sgd.DEXSIUS = pd.to_numeric(df_sgd.DEXSIUS, errors='coerce')\n",
    "df_sgd = df_sgd.fillna(method='ffill')\n",
    "\n",
    "df = df_jpy.join(df_sgd, how='outer')\n",
    "df.head()"
   ]
  },
  {
   "cell_type": "code",
   "execution_count": 4,
   "metadata": {
    "scrolled": false
   },
   "outputs": [
    {
     "data": {
      "image/png": "[encoded data removed]",
      "text/plain": [
       "<matplotlib.figure.Figure at 0x7f514cbad470>"
      ]
     },
     "metadata": {},
     "output_type": "display_data"
    }
   ],
   "source": [
    "# plot JPY time series\n",
    "# scale SGD to that of JPY by multiplying by 100\n",
    "_ = plt.plot(df_jpy, label='JPY')\n",
    "_ = plt.plot(df_sgd*100, label='SGD') \n",
    "_ = plt.legend(loc='best', fontsize='small')\n",
    "plt.show()\n",
    "plt.clf()\n",
    "plt.cla()\n",
    "plt.close()"
   ]
  },
  {
   "cell_type": "markdown",
   "metadata": {},
   "source": [
    "### Cointegration Vector\n",
    "We need to find a cointegration vector which links between the 2 series. We link both series in the form of y = mx + c where m is the cointegration vector."
   ]
  },
  {
   "cell_type": "code",
   "execution_count": 5,
   "metadata": {},
   "outputs": [],
   "source": [
    "df_sgd = sm.add_constant(df_sgd)"
   ]
  },
  {
   "cell_type": "code",
   "execution_count": 6,
   "metadata": {},
   "outputs": [
    {
     "data": {
      "text/html": [
       "<div>\n",
       "<style>\n",
       "    .dataframe thead tr:only-child th {\n",
       "        text-align: right;\n",
       "    }\n",
       "\n",
       "    .dataframe thead th {\n",
       "        text-align: left;\n",
       "    }\n",
       "\n",
       "    .dataframe tbody tr th {\n",
       "        vertical-align: top;\n",
       "    }\n",
       "</style>\n",
       "<table border=\"1\" class=\"dataframe\">\n",
       "  <thead>\n",
       "    <tr style=\"text-align: right;\">\n",
       "      <th></th>\n",
       "      <th>const</th>\n",
       "      <th>DEXSIUS</th>\n",
       "    </tr>\n",
       "    <tr>\n",
       "      <th>DATE</th>\n",
       "      <th></th>\n",
       "      <th></th>\n",
       "    </tr>\n",
       "  </thead>\n",
       "  <tbody>\n",
       "    <tr>\n",
       "      <th>2000-01-03</th>\n",
       "      <td>1.0</td>\n",
       "      <td>1.6563</td>\n",
       "    </tr>\n",
       "    <tr>\n",
       "      <th>2000-01-04</th>\n",
       "      <td>1.0</td>\n",
       "      <td>1.6535</td>\n",
       "    </tr>\n",
       "    <tr>\n",
       "      <th>2000-01-05</th>\n",
       "      <td>1.0</td>\n",
       "      <td>1.6560</td>\n",
       "    </tr>\n",
       "    <tr>\n",
       "      <th>2000-01-06</th>\n",
       "      <td>1.0</td>\n",
       "      <td>1.6655</td>\n",
       "    </tr>\n",
       "    <tr>\n",
       "      <th>2000-01-07</th>\n",
       "      <td>1.0</td>\n",
       "      <td>1.6625</td>\n",
       "    </tr>\n",
       "  </tbody>\n",
       "</table>\n",
       "</div>"
      ],
      "text/plain": [
       "            const  DEXSIUS\n",
       "DATE                      \n",
       "2000-01-03    1.0   1.6563\n",
       "2000-01-04    1.0   1.6535\n",
       "2000-01-05    1.0   1.6560\n",
       "2000-01-06    1.0   1.6655\n",
       "2000-01-07    1.0   1.6625"
      ]
     },
     "execution_count": 6,
     "metadata": {},
     "output_type": "execute_result"
    }
   ],
   "source": [
    "df_sgd.head()"
   ]
  },
  {
   "cell_type": "code",
   "execution_count": 7,
   "metadata": {},
   "outputs": [
    {
     "name": "stdout",
     "output_type": "stream",
     "text": [
      "const      38.333434\n",
      "DEXSIUS    45.582799\n",
      "dtype: float64\n",
      "The cointegration vector is: 45.582799173759376\n"
     ]
    }
   ],
   "source": [
    "result= sm.OLS(df_jpy, df_sgd).fit()\n",
    "print(result.params)\n",
    "m = result.params[1]\n",
    "print('The cointegration vector is: {0}'.format(m))"
   ]
  },
  {
   "cell_type": "code",
   "execution_count": 8,
   "metadata": {},
   "outputs": [
    {
     "data": {
      "image/png": "[encoded data removed]",
      "text/plain": [
       "<matplotlib.figure.Figure at 0x7f514cb63da0>"
      ]
     },
     "metadata": {},
     "output_type": "display_data"
    }
   ],
   "source": [
    "# plot the JPY and SGD timeseries again, \n",
    "#as well as the proposed cointegration plot\n",
    "\n",
    "_ = plt.subplot(2,1,1)\n",
    "_ = plt.plot(df_jpy, label='JPY')\n",
    "_ = plt.plot(df_sgd*m, label='SGD')\n",
    "_ = plt.legend(loc='best', fontsize='small')\n",
    "\n",
    "_ = plt.subplot(2,1,2)\n",
    "_ = plt.plot(df_jpy['DEXJPUS']-m*df_sgd['DEXSIUS'], label='Spread')\n",
    "_ = plt.legend(loc='best', fontsize='small')"
   ]
  },
  {
   "cell_type": "markdown",
   "metadata": {},
   "source": [
    "Visually inspecting JPY and SGD, we can see that they are quite clearly a random walk. Visually inspecting JPY-m*SGD also suggest that they this series is also a random walk, or maybe not.\n",
    "\n",
    "Lets do a augmented dicky fuller test on all these series to test for stationarity and random walks."
   ]
  },
  {
   "cell_type": "markdown",
   "metadata": {},
   "source": [
    "### Augmented Dicky Fuller Tests to test for Random Walks\n",
    "1. ADF Test on JPY and SGD individual to test for random walks\n",
    "2. ADF Test on JPY-m*SGD to test for random walks. If this is not a random walk, then we can say that both JPY and SGD are cointegrated with cointegration vector m."
   ]
  },
  {
   "cell_type": "code",
   "execution_count": 9,
   "metadata": {},
   "outputs": [
    {
     "name": "stdout",
     "output_type": "stream",
     "text": [
      "The p-value for the ADF test on JPY is: 0.4348157690666751\n"
     ]
    }
   ],
   "source": [
    "result = adfuller(df_jpy['DEXJPUS'])\n",
    "print('The p-value for the ADF test on JPY is: {0}'.format(result[1]))"
   ]
  },
  {
   "cell_type": "code",
   "execution_count": 10,
   "metadata": {},
   "outputs": [
    {
     "name": "stdout",
     "output_type": "stream",
     "text": [
      "The p-value for the ADF test on SGD is: 0.7659899645851036\n"
     ]
    }
   ],
   "source": [
    "result = adfuller(df_sgd['DEXSIUS'])\n",
    "print('The p-value for the ADF test on SGD is: {0}'.format(result[1]))"
   ]
  },
  {
   "cell_type": "code",
   "execution_count": 11,
   "metadata": {},
   "outputs": [
    {
     "name": "stdout",
     "output_type": "stream",
     "text": [
      "The p-value for the ADF test on JPY - SGD*m is: 0.2808274429253699\n"
     ]
    }
   ],
   "source": [
    "result = adfuller(df_jpy['DEXJPUS'] - df['DEXSIUS']*m)\n",
    "print('The p-value for the ADF test on JPY - SGD*m is: {0}'.format(result[1]))"
   ]
  },
  {
   "cell_type": "markdown",
   "metadata": {},
   "source": [
    "### Summary\n",
    "The ADF test does not suggest that both JPY and SGD are cointegrated.\n",
    "In all 3 ADF tests above, the null hypothesis cannot be rejected that there is a unit root in the series, suggesting non-stationarity."
   ]
  },
  {
   "cell_type": "code",
   "execution_count": null,
   "metadata": {},
   "outputs": [],
   "source": []
  }
 ],
 "metadata": {
  "kernelspec": {
   "display_name": "Python 3.6",
   "language": "python",
   "name": "python36"
  },
  "language_info": {
   "codemirror_mode": {
    "name": "ipython",
    "version": 3
   },
   "file_extension": ".py",
   "mimetype": "text/x-python",
   "name": "python",
   "nbconvert_exporter": "python",
   "pygments_lexer": "ipython3",
   "version": "3.6.3"
  }
 },
 "nbformat": 4,
 "nbformat_minor": 2
}
